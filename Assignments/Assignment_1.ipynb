{
  "nbformat": 4,
  "nbformat_minor": 0,
  "metadata": {
    "colab": {
      "provenance": []
    },
    "kernelspec": {
      "name": "python3",
      "display_name": "Python 3"
    },
    "language_info": {
      "name": "python"
    }
  },
  "cells": [
    {
      "cell_type": "markdown",
      "source": [
        "Q1. Create one variable containing following type of data:\n",
        "(i) string\n",
        "(ii) list\n",
        "(iii) float\n",
        "(iv) tuple"
      ],
      "metadata": {
        "id": "zlS9OsOqAuqd"
      }
    },
    {
      "cell_type": "code",
      "execution_count": 1,
      "metadata": {
        "colab": {
          "base_uri": "https://localhost:8080/",
          "height": 36
        },
        "id": "k4CIxzJL5l27",
        "outputId": "21c4464e-1a06-493e-ce08-737642392856"
      },
      "outputs": [
        {
          "output_type": "execute_result",
          "data": {
            "text/plain": [
              "'This is a string'"
            ],
            "application/vnd.google.colaboratory.intrinsic+json": {
              "type": "string"
            }
          },
          "metadata": {},
          "execution_count": 1
        }
      ],
      "source": [
        "#String\n",
        "S=\"This is a string\"\n",
        "S"
      ]
    },
    {
      "cell_type": "code",
      "source": [
        "#List\n",
        "L=[1,2,3,50,\"PwSkills\",6.587,True]\n",
        "L"
      ],
      "metadata": {
        "colab": {
          "base_uri": "https://localhost:8080/"
        },
        "id": "Bt6lke3MA7Qb",
        "outputId": "a090da8e-e2cd-453e-cda0-3309ce05404f"
      },
      "execution_count": 2,
      "outputs": [
        {
          "output_type": "execute_result",
          "data": {
            "text/plain": [
              "[1, 2, 3, 50, 'PwSkills', 6.587, True]"
            ]
          },
          "metadata": {},
          "execution_count": 2
        }
      ]
    },
    {
      "cell_type": "code",
      "source": [
        "# Float\n",
        "f={65.2,45.2,90.8}\n",
        "f"
      ],
      "metadata": {
        "colab": {
          "base_uri": "https://localhost:8080/"
        },
        "id": "L_Kzk2D2BN0K",
        "outputId": "19e8fd56-9e37-410a-ec5b-1928bbfeceb2"
      },
      "execution_count": 3,
      "outputs": [
        {
          "output_type": "execute_result",
          "data": {
            "text/plain": [
              "{45.2, 65.2, 90.8}"
            ]
          },
          "metadata": {},
          "execution_count": 3
        }
      ]
    },
    {
      "cell_type": "code",
      "source": [
        "#Tuple\n",
        "t=(32,66,50.5,'Data Science')\n",
        "t"
      ],
      "metadata": {
        "colab": {
          "base_uri": "https://localhost:8080/"
        },
        "id": "ZUQWHRxBBYo4",
        "outputId": "003a8282-f83d-4325-986b-baac9eca221f"
      },
      "execution_count": 4,
      "outputs": [
        {
          "output_type": "execute_result",
          "data": {
            "text/plain": [
              "(32, 66, 50.5, 'Data Science')"
            ]
          },
          "metadata": {},
          "execution_count": 4
        }
      ]
    },
    {
      "cell_type": "markdown",
      "source": [
        "Q2. Given are some following variables containing data:\n",
        "(i) var1 = ‘ ‘\n",
        "(ii) var2 = ‘[ DS , ML , Python]’\n",
        "(iii) var3 = [ ‘DS’ , ’ML’ , ‘Python’ ]\n",
        "(iv) var4 = 1.\n",
        "What will be the data type of the above given variable."
      ],
      "metadata": {
        "id": "I_J5BSLvBmDN"
      }
    },
    {
      "cell_type": "code",
      "source": [
        "var1 =' '\n",
        "type(var1)"
      ],
      "metadata": {
        "colab": {
          "base_uri": "https://localhost:8080/"
        },
        "id": "qdmqPaLDBfZC",
        "outputId": "8008717f-8550-415c-e328-21dd68af5d6a"
      },
      "execution_count": 6,
      "outputs": [
        {
          "output_type": "execute_result",
          "data": {
            "text/plain": [
              "str"
            ]
          },
          "metadata": {},
          "execution_count": 6
        }
      ]
    },
    {
      "cell_type": "code",
      "source": [
        "var2 = '[ DS , ML , Python]'\n",
        "type(var2)"
      ],
      "metadata": {
        "colab": {
          "base_uri": "https://localhost:8080/"
        },
        "id": "_P6jF50GBrkg",
        "outputId": "4c7d9778-d47c-4b27-d4c4-4e9cd1dbbb65"
      },
      "execution_count": 8,
      "outputs": [
        {
          "output_type": "execute_result",
          "data": {
            "text/plain": [
              "str"
            ]
          },
          "metadata": {},
          "execution_count": 8
        }
      ]
    },
    {
      "cell_type": "code",
      "source": [
        "var3 = [ 'DS','ML','Python']\n",
        "type(var3)"
      ],
      "metadata": {
        "colab": {
          "base_uri": "https://localhost:8080/"
        },
        "id": "K31aob97B6q7",
        "outputId": "cd0b0e04-a1f4-4294-d95f-d53f49662237"
      },
      "execution_count": 9,
      "outputs": [
        {
          "output_type": "execute_result",
          "data": {
            "text/plain": [
              "list"
            ]
          },
          "metadata": {},
          "execution_count": 9
        }
      ]
    },
    {
      "cell_type": "code",
      "source": [
        "var4=1\n",
        "type(var4)"
      ],
      "metadata": {
        "colab": {
          "base_uri": "https://localhost:8080/"
        },
        "id": "Pxee46BKCItI",
        "outputId": "c1d8e96c-ec72-4808-8720-8836306655c1"
      },
      "execution_count": 10,
      "outputs": [
        {
          "output_type": "execute_result",
          "data": {
            "text/plain": [
              "int"
            ]
          },
          "metadata": {},
          "execution_count": 10
        }
      ]
    },
    {
      "cell_type": "markdown",
      "source": [
        "Q3. Explain the use of the following operators using an example:\n",
        "(i) /     This is division operator\n",
        "(ii) %    This is modulus operator\n",
        "(iii) //  This is floor division operator\n",
        "(iv) **   This is exponential/power operator"
      ],
      "metadata": {
        "id": "eR8zpLhFCS6c"
      }
    },
    {
      "cell_type": "code",
      "source": [
        "#  /     This is division operator\n",
        "5/4"
      ],
      "metadata": {
        "colab": {
          "base_uri": "https://localhost:8080/"
        },
        "id": "g4XHtzUMjrx6",
        "outputId": "126851fd-56e9-4130-dddd-08db7086d9d4"
      },
      "execution_count": 39,
      "outputs": [
        {
          "output_type": "execute_result",
          "data": {
            "text/plain": [
              "1.25"
            ]
          },
          "metadata": {},
          "execution_count": 39
        }
      ]
    },
    {
      "cell_type": "code",
      "source": [
        "# % This is modulus operator which gives remainder\n",
        "10%3"
      ],
      "metadata": {
        "colab": {
          "base_uri": "https://localhost:8080/"
        },
        "id": "dZMXNE6ZjwZE",
        "outputId": "eb4bbfe4-4fc1-4e0b-dd3e-94376e7dad74"
      },
      "execution_count": 40,
      "outputs": [
        {
          "output_type": "execute_result",
          "data": {
            "text/plain": [
              "1"
            ]
          },
          "metadata": {},
          "execution_count": 40
        }
      ]
    },
    {
      "cell_type": "code",
      "source": [
        "#  // This is floor division operator which gives only integer and ignores decimal points\n",
        "10//4"
      ],
      "metadata": {
        "colab": {
          "base_uri": "https://localhost:8080/"
        },
        "id": "irsPxhDqj5QR",
        "outputId": "c62fc385-7643-4cfb-a126-a95250f990e3"
      },
      "execution_count": 41,
      "outputs": [
        {
          "output_type": "execute_result",
          "data": {
            "text/plain": [
              "2"
            ]
          },
          "metadata": {},
          "execution_count": 41
        }
      ]
    },
    {
      "cell_type": "code",
      "source": [
        "#  ** This is exponential/power operator\n",
        "5**3   #means 3 times 5 i.e. 5*5*5"
      ],
      "metadata": {
        "colab": {
          "base_uri": "https://localhost:8080/"
        },
        "id": "lRlQ2xpZkFD_",
        "outputId": "fa588664-f1d5-4cb8-e5eb-fb8c374c529d"
      },
      "execution_count": 43,
      "outputs": [
        {
          "output_type": "execute_result",
          "data": {
            "text/plain": [
              "125"
            ]
          },
          "metadata": {},
          "execution_count": 43
        }
      ]
    },
    {
      "cell_type": "markdown",
      "source": [
        "Q4. Create a list of length 10 of your choice containing multiple types of data. Using for loop print the\n",
        "element and its data type."
      ],
      "metadata": {
        "id": "_mZeI1i2Cxij"
      }
    },
    {
      "cell_type": "code",
      "source": [
        "L=[10,20,40,50.50,'Data Science','PW SKILLS',True,80,90,100]"
      ],
      "metadata": {
        "id": "RdbhO-qFCL4u"
      },
      "execution_count": 11,
      "outputs": []
    },
    {
      "cell_type": "code",
      "source": [
        "for i in L:\n",
        "  print(type(i))"
      ],
      "metadata": {
        "colab": {
          "base_uri": "https://localhost:8080/"
        },
        "id": "mGZ6K4mBDGfw",
        "outputId": "840a2794-5c66-4261-c136-c0c0e0dccf1d"
      },
      "execution_count": 14,
      "outputs": [
        {
          "output_type": "stream",
          "name": "stdout",
          "text": [
            "<class 'int'>\n",
            "<class 'int'>\n",
            "<class 'int'>\n",
            "<class 'float'>\n",
            "<class 'str'>\n",
            "<class 'str'>\n",
            "<class 'bool'>\n",
            "<class 'int'>\n",
            "<class 'int'>\n",
            "<class 'int'>\n"
          ]
        }
      ]
    },
    {
      "cell_type": "markdown",
      "source": [
        "Q5. Using a while loop, verify if the number A is purely divisible by number B and if so then how many\n",
        "times it can be divisible."
      ],
      "metadata": {
        "id": "xuhNyxj6DlnS"
      }
    },
    {
      "cell_type": "code",
      "source": [
        "A = int(input(\"Enter value for A: \"))\n",
        "B = int(input(\"Enter value for B: \"))\n",
        "\n",
        "Num1=A\n",
        "Num2=B\n",
        "count=0\n",
        "\n",
        "while A%B==0:\n",
        "  A=A/B\n",
        "  count=count+1\n",
        "\n",
        "if count==0:\n",
        "  print(f\"{Num1} is not divisible by {Num2}\")\n",
        "else:\n",
        "  print(f\"{Num1} is {count} times divisible by {Num2}\")\n"
      ],
      "metadata": {
        "colab": {
          "base_uri": "https://localhost:8080/"
        },
        "id": "Qqfpeyd-Ddrm",
        "outputId": "d0286da3-551d-4a3c-c429-86c6221ca425"
      },
      "execution_count": 33,
      "outputs": [
        {
          "output_type": "stream",
          "name": "stdout",
          "text": [
            "Enter value for A: 16\n",
            "Enter value for B: 2\n",
            "16 is 4 times divisible by 2\n"
          ]
        }
      ]
    },
    {
      "cell_type": "markdown",
      "source": [
        "Q6. Create a list containing 25 int type data. Using for loop and if-else condition print if the element is\n",
        "divisible by 3 or not."
      ],
      "metadata": {
        "id": "hFM2VabMEoqW"
      }
    },
    {
      "cell_type": "code",
      "source": [
        "L=list(range(1,26))\n",
        "L"
      ],
      "metadata": {
        "colab": {
          "base_uri": "https://localhost:8080/"
        },
        "id": "HjxB8exxEq5t",
        "outputId": "73689637-922a-430f-c14e-8d8426568a30"
      },
      "execution_count": 24,
      "outputs": [
        {
          "output_type": "execute_result",
          "data": {
            "text/plain": [
              "[1,\n",
              " 2,\n",
              " 3,\n",
              " 4,\n",
              " 5,\n",
              " 6,\n",
              " 7,\n",
              " 8,\n",
              " 9,\n",
              " 10,\n",
              " 11,\n",
              " 12,\n",
              " 13,\n",
              " 14,\n",
              " 15,\n",
              " 16,\n",
              " 17,\n",
              " 18,\n",
              " 19,\n",
              " 20,\n",
              " 21,\n",
              " 22,\n",
              " 23,\n",
              " 24,\n",
              " 25]"
            ]
          },
          "metadata": {},
          "execution_count": 24
        }
      ]
    },
    {
      "cell_type": "code",
      "source": [
        "for i in L:\n",
        "  if i%3==0:\n",
        "    print(i,' is divisible by 3')\n",
        "  else:\n",
        "    print(i,' is not divisible by 3')"
      ],
      "metadata": {
        "colab": {
          "base_uri": "https://localhost:8080/"
        },
        "id": "5bSRA9E9Eyze",
        "outputId": "904415f7-d24f-410d-c659-8baa4e931e17"
      },
      "execution_count": 28,
      "outputs": [
        {
          "output_type": "stream",
          "name": "stdout",
          "text": [
            "1  is not divisible by 3\n",
            "2  is not divisible by 3\n",
            "3  is divisible by 3\n",
            "4  is not divisible by 3\n",
            "5  is not divisible by 3\n",
            "6  is divisible by 3\n",
            "7  is not divisible by 3\n",
            "8  is not divisible by 3\n",
            "9  is divisible by 3\n",
            "10  is not divisible by 3\n",
            "11  is not divisible by 3\n",
            "12  is divisible by 3\n",
            "13  is not divisible by 3\n",
            "14  is not divisible by 3\n",
            "15  is divisible by 3\n",
            "16  is not divisible by 3\n",
            "17  is not divisible by 3\n",
            "18  is divisible by 3\n",
            "19  is not divisible by 3\n",
            "20  is not divisible by 3\n",
            "21  is divisible by 3\n",
            "22  is not divisible by 3\n",
            "23  is not divisible by 3\n",
            "24  is divisible by 3\n",
            "25  is not divisible by 3\n"
          ]
        }
      ]
    },
    {
      "cell_type": "markdown",
      "source": [
        "Q7. What do you understand about mutable and immutable data types? Give examples for both showing\n",
        "this property."
      ],
      "metadata": {
        "id": "PCZq7u-4MdkC"
      }
    },
    {
      "cell_type": "markdown",
      "source": [
        "Answer:\n",
        "Mutables datatypes are the datatype in which elements can be modified or manipulated like replace, update, delete.\n",
        "Immutables datatypes are the datatype in which elements cannot be modified or manipulated"
      ],
      "metadata": {
        "id": "OkMXTT2ch3s3"
      }
    },
    {
      "cell_type": "code",
      "source": [
        "#Mutable Datatypes\n",
        "L1=[10,20,30,40,50,60,70,80,90,100]\n",
        "L1"
      ],
      "metadata": {
        "colab": {
          "base_uri": "https://localhost:8080/"
        },
        "id": "H_hi0eDSMeXF",
        "outputId": "65cf5b05-a91d-42ed-aea3-c977fa34103e"
      },
      "execution_count": 34,
      "outputs": [
        {
          "output_type": "execute_result",
          "data": {
            "text/plain": [
              "[10, 20, 30, 40, 50, 60, 70, 80, 90, 100]"
            ]
          },
          "metadata": {},
          "execution_count": 34
        }
      ]
    },
    {
      "cell_type": "code",
      "source": [
        "#Updating 5th index with data\n",
        "L1[4]='Data'\n",
        "L1"
      ],
      "metadata": {
        "colab": {
          "base_uri": "https://localhost:8080/"
        },
        "id": "PSA5x8-_ig4K",
        "outputId": "3d7ba259-585a-4076-9290-120e88b0c7e3"
      },
      "execution_count": 35,
      "outputs": [
        {
          "output_type": "execute_result",
          "data": {
            "text/plain": [
              "[10, 20, 30, 40, 'Data', 60, 70, 80, 90, 100]"
            ]
          },
          "metadata": {},
          "execution_count": 35
        }
      ]
    },
    {
      "cell_type": "code",
      "source": [
        "#Immutable Datas\n",
        "S1='PW SKILLS'\n",
        "S1"
      ],
      "metadata": {
        "colab": {
          "base_uri": "https://localhost:8080/",
          "height": 36
        },
        "id": "tdNC59q-ir5q",
        "outputId": "1d29921d-58e0-48cb-a0e6-1e0051a17451"
      },
      "execution_count": 36,
      "outputs": [
        {
          "output_type": "execute_result",
          "data": {
            "text/plain": [
              "'PW SKILLS'"
            ],
            "application/vnd.google.colaboratory.intrinsic+json": {
              "type": "string"
            }
          },
          "metadata": {},
          "execution_count": 36
        }
      ]
    },
    {
      "cell_type": "code",
      "source": [
        "S1[4]"
      ],
      "metadata": {
        "colab": {
          "base_uri": "https://localhost:8080/",
          "height": 36
        },
        "id": "734gMgqJjQYd",
        "outputId": "d442401d-1d35-4e88-a6a0-91e1b3fae66f"
      },
      "execution_count": 37,
      "outputs": [
        {
          "output_type": "execute_result",
          "data": {
            "text/plain": [
              "'K'"
            ],
            "application/vnd.google.colaboratory.intrinsic+json": {
              "type": "string"
            }
          },
          "metadata": {},
          "execution_count": 37
        }
      ]
    },
    {
      "cell_type": "code",
      "source": [
        "S1[4]='S'   #Since strings are immutable we cannot modify or replace the following index"
      ],
      "metadata": {
        "colab": {
          "base_uri": "https://localhost:8080/",
          "height": 175
        },
        "id": "-_WO4VTbjRaR",
        "outputId": "daa76e6f-a1d9-4cca-e6ef-e857e00704c4"
      },
      "execution_count": 38,
      "outputs": [
        {
          "output_type": "error",
          "ename": "TypeError",
          "evalue": "ignored",
          "traceback": [
            "\u001b[0;31m---------------------------------------------------------------------------\u001b[0m",
            "\u001b[0;31mTypeError\u001b[0m                                 Traceback (most recent call last)",
            "\u001b[0;32m<ipython-input-38-f25276a01b03>\u001b[0m in \u001b[0;36m<cell line: 1>\u001b[0;34m()\u001b[0m\n\u001b[0;32m----> 1\u001b[0;31m \u001b[0mS1\u001b[0m\u001b[0;34m[\u001b[0m\u001b[0;36m4\u001b[0m\u001b[0;34m]\u001b[0m\u001b[0;34m=\u001b[0m\u001b[0;34m'S'\u001b[0m\u001b[0;34m\u001b[0m\u001b[0;34m\u001b[0m\u001b[0m\n\u001b[0m",
            "\u001b[0;31mTypeError\u001b[0m: 'str' object does not support item assignment"
          ]
        }
      ]
    },
    {
      "cell_type": "code",
      "source": [],
      "metadata": {
        "id": "LAyi0YkyjUPC"
      },
      "execution_count": null,
      "outputs": []
    }
  ]
}