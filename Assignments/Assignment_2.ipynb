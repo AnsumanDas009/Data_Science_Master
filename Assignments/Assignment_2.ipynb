{
  "nbformat": 4,
  "nbformat_minor": 0,
  "metadata": {
    "colab": {
      "provenance": []
    },
    "kernelspec": {
      "name": "python3",
      "display_name": "Python 3"
    },
    "language_info": {
      "name": "python"
    }
  },
  "cells": [
    {
      "cell_type": "markdown",
      "source": [
        "Q1. How do you comment code in Python? What are the different types of comments?"
      ],
      "metadata": {
        "id": "INRWNCnszid6"
      }
    },
    {
      "cell_type": "markdown",
      "source": [
        "Answer:\n",
        "1. Single Line Comment:\n",
        " We can use '#' before each statement inside a code cell in order to make it a comment.\n",
        "2. Multiple Line Comment:\n",
        "If we want multiple line comments we can write it as paragraph as well. After writing it as paragraph simply select all and press \"Ctrl + /\" so the entire lines will be entitled with # in the beginning of each line making it multiple line comment.\n",
        "\n",
        "3. We can use triple quote (''' paragraph ''') or (\"\"\" paragraph \"\"\")to make it a comment."
      ],
      "metadata": {
        "id": "r3yrQVFhzofN"
      }
    },
    {
      "cell_type": "code",
      "source": [
        "#This is single line comment"
      ],
      "metadata": {
        "id": "YbC0WD1PzoFY"
      },
      "execution_count": 1,
      "outputs": []
    },
    {
      "cell_type": "code",
      "execution_count": 2,
      "metadata": {
        "id": "xWRSkhkuzb-s"
      },
      "outputs": [],
      "source": [
        "# this is\n",
        "# multiple line comment,\n",
        "# select all and press\n",
        "# \"Ctrl + / \" to get # at once in every line"
      ]
    },
    {
      "cell_type": "code",
      "source": [
        "''' this is\n",
        "a multiple line\n",
        "comments and we can write it in\n",
        "triple quote '''"
      ],
      "metadata": {
        "colab": {
          "base_uri": "https://localhost:8080/",
          "height": 36
        },
        "id": "Kr4H4Bme06aM",
        "outputId": "bc1734db-ea12-4ea4-b924-d3aee58a3b70"
      },
      "execution_count": 3,
      "outputs": [
        {
          "output_type": "execute_result",
          "data": {
            "text/plain": [
              "' this is\\na multiple line\\ncomments and we can write it in\\ntriple quote '"
            ],
            "application/vnd.google.colaboratory.intrinsic+json": {
              "type": "string"
            }
          },
          "metadata": {},
          "execution_count": 3
        }
      ]
    },
    {
      "cell_type": "markdown",
      "source": [
        "Q2. What are variables in Python? How do you declare and assign values to variables?"
      ],
      "metadata": {
        "id": "6F2hr7Bm1IN6"
      }
    },
    {
      "cell_type": "markdown",
      "source": [
        "Answer:\n",
        "\n",
        "Variables are used to store or assign a value of any datatype in the python\n",
        "\n",
        "Variables in Python have some naming rules, such as:\n",
        "\n",
        " They must start with a letter or an underscore _\n",
        " They cannot start with a number\n",
        " They can only contain alphanumeric characters and underscores (A-Z, a-z, 0-9, and _)\n",
        " They are case-sensitive, meaning x and X are different variables"
      ],
      "metadata": {
        "id": "a8HYyeAOU72O"
      }
    },
    {
      "cell_type": "code",
      "source": [
        "#Example :\n",
        "Integer=67                                            #integer datatype\n",
        "f=65.5                                                #float datatype\n",
        "comp=5+6j                                             #complex no\n",
        "s1='python'                                           # string datatype\n",
        "list_1=[1,2,53.5,'python','list',100]                 #list datatype\n",
        "_tuple=(1,2,53.5,'python','list',100)                 #tuple datatype"
      ],
      "metadata": {
        "id": "iJlsbLfzTH-u"
      },
      "execution_count": 5,
      "outputs": []
    },
    {
      "cell_type": "markdown",
      "source": [
        "Q3. How do you convert one data type to another in Python?"
      ],
      "metadata": {
        "id": "kCRCb5dDKjBu"
      }
    },
    {
      "cell_type": "markdown",
      "source": [
        "Ans:- We can use typecasting method to convert one datatype to another datatype in python. Below are some of the example of typecasting datatypes"
      ],
      "metadata": {
        "id": "XsQnJOgBSUVd"
      }
    },
    {
      "cell_type": "code",
      "source": [
        "# 1. Converting list datatype into tuple datatype\n",
        "l1=[1,2,3,4,5,6]\n",
        "type(l1)"
      ],
      "metadata": {
        "id": "J9yjTd1IKkoE",
        "outputId": "4eb83e05-b839-4aae-bd60-997428363eec",
        "colab": {
          "base_uri": "https://localhost:8080/"
        }
      },
      "execution_count": 8,
      "outputs": [
        {
          "output_type": "execute_result",
          "data": {
            "text/plain": [
              "list"
            ]
          },
          "metadata": {},
          "execution_count": 8
        }
      ]
    },
    {
      "cell_type": "code",
      "source": [
        "l1=tuple(l1)\n",
        "l1"
      ],
      "metadata": {
        "id": "1twlgVPvKw4P",
        "outputId": "2a7f79eb-8bfc-4287-c0ae-4793012dc92b",
        "colab": {
          "base_uri": "https://localhost:8080/"
        }
      },
      "execution_count": 9,
      "outputs": [
        {
          "output_type": "execute_result",
          "data": {
            "text/plain": [
              "(1, 2, 3, 4, 5, 6)"
            ]
          },
          "metadata": {},
          "execution_count": 9
        }
      ]
    },
    {
      "cell_type": "code",
      "source": [
        "type(l1)  #List datatype is converted into tuple datatype"
      ],
      "metadata": {
        "id": "jaOJA-GKK1HM",
        "outputId": "08fec1d3-e531-4c43-9172-d6a9409d6253",
        "colab": {
          "base_uri": "https://localhost:8080/"
        }
      },
      "execution_count": 10,
      "outputs": [
        {
          "output_type": "execute_result",
          "data": {
            "text/plain": [
              "tuple"
            ]
          },
          "metadata": {},
          "execution_count": 10
        }
      ]
    },
    {
      "cell_type": "code",
      "source": [
        "# 2. Converting string into int datatype\n",
        "s='42'\n",
        "s"
      ],
      "metadata": {
        "id": "BRbOwX0lK2sk",
        "outputId": "c34ae617-0cc3-4622-be2c-230aa9122d0e",
        "colab": {
          "base_uri": "https://localhost:8080/",
          "height": 36
        }
      },
      "execution_count": 12,
      "outputs": [
        {
          "output_type": "execute_result",
          "data": {
            "text/plain": [
              "'42'"
            ],
            "application/vnd.google.colaboratory.intrinsic+json": {
              "type": "string"
            }
          },
          "metadata": {},
          "execution_count": 12
        }
      ]
    },
    {
      "cell_type": "code",
      "source": [
        "type(s)     # s is now string datatype"
      ],
      "metadata": {
        "id": "chu6UUqQQibH",
        "outputId": "53f4773a-ee79-4092-f9a8-917dbe7dbf44",
        "colab": {
          "base_uri": "https://localhost:8080/"
        }
      },
      "execution_count": 13,
      "outputs": [
        {
          "output_type": "execute_result",
          "data": {
            "text/plain": [
              "str"
            ]
          },
          "metadata": {},
          "execution_count": 13
        }
      ]
    },
    {
      "cell_type": "code",
      "source": [
        "s=int(s)"
      ],
      "metadata": {
        "id": "jfSGXK1DQjhh"
      },
      "execution_count": 14,
      "outputs": []
    },
    {
      "cell_type": "code",
      "source": [
        "s"
      ],
      "metadata": {
        "id": "Bp9ecm5VRGND",
        "outputId": "fd61a26b-4b5e-47a8-81f3-97993bae54a3",
        "colab": {
          "base_uri": "https://localhost:8080/"
        }
      },
      "execution_count": 15,
      "outputs": [
        {
          "output_type": "execute_result",
          "data": {
            "text/plain": [
              "42"
            ]
          },
          "metadata": {},
          "execution_count": 15
        }
      ]
    },
    {
      "cell_type": "code",
      "source": [
        "type(s)     #s is now int datatype"
      ],
      "metadata": {
        "id": "AKHTEV-VRdB_",
        "outputId": "8e342b48-7eb3-4d94-bb3a-d979b663c3f0",
        "colab": {
          "base_uri": "https://localhost:8080/"
        }
      },
      "execution_count": 16,
      "outputs": [
        {
          "output_type": "execute_result",
          "data": {
            "text/plain": [
              "int"
            ]
          },
          "metadata": {},
          "execution_count": 16
        }
      ]
    },
    {
      "cell_type": "code",
      "source": [
        "# 3. converting float into int datatype\n",
        "f = 3.14\n",
        "i = int(f) # i is now an integer with the value 3"
      ],
      "metadata": {
        "id": "tqbImIdZRmWm"
      },
      "execution_count": 17,
      "outputs": []
    },
    {
      "cell_type": "code",
      "source": [
        "type(f)"
      ],
      "metadata": {
        "id": "Q8awyyx1SD-a",
        "outputId": "a7c069b8-14d8-4570-8dc0-33a0a4d40633",
        "colab": {
          "base_uri": "https://localhost:8080/"
        }
      },
      "execution_count": 18,
      "outputs": [
        {
          "output_type": "execute_result",
          "data": {
            "text/plain": [
              "float"
            ]
          },
          "metadata": {},
          "execution_count": 18
        }
      ]
    },
    {
      "cell_type": "code",
      "source": [
        "type(i)"
      ],
      "metadata": {
        "id": "PaeHhMKwSFCX",
        "outputId": "00a4fc00-d8c9-4b26-98c5-40f1e99790f2",
        "colab": {
          "base_uri": "https://localhost:8080/"
        }
      },
      "execution_count": 19,
      "outputs": [
        {
          "output_type": "execute_result",
          "data": {
            "text/plain": [
              "int"
            ]
          },
          "metadata": {},
          "execution_count": 19
        }
      ]
    },
    {
      "cell_type": "markdown",
      "source": [
        "Q4. How do you write and execute a Python script from the command line"
      ],
      "metadata": {
        "id": "eX0tOfKmVEnq"
      }
    },
    {
      "cell_type": "markdown",
      "source": [
        "Answer:\n",
        "  First write our Python code in a text editor and save it as a .py file.\n",
        "  For example, hello.py\n",
        "  Run our script using the python command followed by the name of our script.\n",
        "  For example, python hello.py. We must have Python installed and added to our system path.\n",
        "  We can also use python3 if our Python version is 3.x"
      ],
      "metadata": {
        "id": "ITCVgQ59Vnos"
      }
    },
    {
      "cell_type": "markdown",
      "source": [
        "Q5. Given a list my_list = [1, 2, 3, 4, 5], write the code to slice the list and obtain the sub-list [2, 3]"
      ],
      "metadata": {
        "id": "dOXLEgOPWHHR"
      }
    },
    {
      "cell_type": "code",
      "source": [
        "my_list = [1, 2, 3, 4, 5]"
      ],
      "metadata": {
        "id": "aw4wQU38SGqp"
      },
      "execution_count": 20,
      "outputs": []
    },
    {
      "cell_type": "code",
      "source": [
        "my_list[1:3]"
      ],
      "metadata": {
        "id": "qfkd3TnsWNdS",
        "outputId": "94e61ced-dd0c-4a08-cd79-e0b1ca671e22",
        "colab": {
          "base_uri": "https://localhost:8080/"
        }
      },
      "execution_count": 21,
      "outputs": [
        {
          "output_type": "execute_result",
          "data": {
            "text/plain": [
              "[2, 3]"
            ]
          },
          "metadata": {},
          "execution_count": 21
        }
      ]
    },
    {
      "cell_type": "markdown",
      "source": [
        "Q6. What is a complex number in mathematics, and how is it represented in Python?"
      ],
      "metadata": {
        "id": "wnl-_cC0Wbtw"
      }
    },
    {
      "cell_type": "markdown",
      "source": [
        "Answer:\n",
        "  A complex number in Python is written as x + yj, where x and y are real numbers and j is the imaginary unit.\n",
        "  A complex number in mathematics is a number that can be written as a + b * i, where a and b are real numbers and i is the imaginary unit that satisfies i * i = -1.\n",
        "  Complex numbers are useful for representing many phenomena in physics, engineering, and other fields."
      ],
      "metadata": {
        "id": "FQ0WIyONXB1f"
      }
    },
    {
      "cell_type": "code",
      "source": [
        "#For example, to create a complex number with real part 5 and imaginary part 8\n",
        "z=5+8j\n",
        "z"
      ],
      "metadata": {
        "id": "URbu0ifrWWUK",
        "outputId": "88427740-2c7b-48f9-8fd9-f695a3ae5c49",
        "colab": {
          "base_uri": "https://localhost:8080/"
        }
      },
      "execution_count": 23,
      "outputs": [
        {
          "output_type": "execute_result",
          "data": {
            "text/plain": [
              "(5+8j)"
            ]
          },
          "metadata": {},
          "execution_count": 23
        }
      ]
    },
    {
      "cell_type": "code",
      "source": [
        "type(z)"
      ],
      "metadata": {
        "id": "8tFEG7DSWu5T",
        "outputId": "2386ccc4-215c-41bf-bbeb-bf1e78c5aa87",
        "colab": {
          "base_uri": "https://localhost:8080/"
        }
      },
      "execution_count": 24,
      "outputs": [
        {
          "output_type": "execute_result",
          "data": {
            "text/plain": [
              "complex"
            ]
          },
          "metadata": {},
          "execution_count": 24
        }
      ]
    },
    {
      "cell_type": "code",
      "source": [
        "#To check real number\n",
        "z.real"
      ],
      "metadata": {
        "id": "4uTsbVGkWvrL",
        "outputId": "5349db1e-2a16-45e1-dd26-50ef16475015",
        "colab": {
          "base_uri": "https://localhost:8080/"
        }
      },
      "execution_count": 26,
      "outputs": [
        {
          "output_type": "execute_result",
          "data": {
            "text/plain": [
              "5.0"
            ]
          },
          "metadata": {},
          "execution_count": 26
        }
      ]
    },
    {
      "cell_type": "code",
      "source": [
        "#To check imaginary number\n",
        "z.imag"
      ],
      "metadata": {
        "id": "XKEQlEOFW2Ol",
        "outputId": "d7913de0-3299-4b72-c856-62e109657a89",
        "colab": {
          "base_uri": "https://localhost:8080/"
        }
      },
      "execution_count": 27,
      "outputs": [
        {
          "output_type": "execute_result",
          "data": {
            "text/plain": [
              "8.0"
            ]
          },
          "metadata": {},
          "execution_count": 27
        }
      ]
    },
    {
      "cell_type": "markdown",
      "source": [
        "Q7. What is the correct way to declare a variable named age and assign the value 25 to it?"
      ],
      "metadata": {
        "id": "sXmihlbLXvzH"
      }
    },
    {
      "cell_type": "code",
      "source": [
        "age=25\n",
        "age"
      ],
      "metadata": {
        "id": "i03kFFpaW4yk",
        "outputId": "331d77de-9f79-4750-92ed-b45d57239551",
        "colab": {
          "base_uri": "https://localhost:8080/"
        }
      },
      "execution_count": 29,
      "outputs": [
        {
          "output_type": "execute_result",
          "data": {
            "text/plain": [
              "25"
            ]
          },
          "metadata": {},
          "execution_count": 29
        }
      ]
    },
    {
      "cell_type": "code",
      "source": [
        "type(age)"
      ],
      "metadata": {
        "id": "Uu6Iv-c8Xyzd",
        "outputId": "7ba7d3dd-52f4-4a8a-9fbf-ffd4f114ef25",
        "colab": {
          "base_uri": "https://localhost:8080/"
        }
      },
      "execution_count": 30,
      "outputs": [
        {
          "output_type": "execute_result",
          "data": {
            "text/plain": [
              "int"
            ]
          },
          "metadata": {},
          "execution_count": 30
        }
      ]
    },
    {
      "cell_type": "markdown",
      "source": [
        "Q8. Declare a variable named price and assign the value 9.99 to it. What data type does this variable belong to?"
      ],
      "metadata": {
        "id": "phNSEHV5YEFX"
      }
    },
    {
      "cell_type": "code",
      "source": [
        "price=9.99\n",
        "print(price)\n",
        "# As the assigned value is decimal number it is float datatype"
      ],
      "metadata": {
        "id": "Re0pEPITXz6j",
        "outputId": "e574f475-b83c-4a3a-ef93-4e7118d7924a",
        "colab": {
          "base_uri": "https://localhost:8080/"
        }
      },
      "execution_count": 31,
      "outputs": [
        {
          "output_type": "stream",
          "name": "stdout",
          "text": [
            "9.99\n"
          ]
        }
      ]
    },
    {
      "cell_type": "code",
      "source": [
        "type(price)"
      ],
      "metadata": {
        "id": "2S7Unl6-YQrn",
        "outputId": "3e2d7eca-996f-4a8f-83c5-f7c961aefa76",
        "colab": {
          "base_uri": "https://localhost:8080/"
        }
      },
      "execution_count": 32,
      "outputs": [
        {
          "output_type": "execute_result",
          "data": {
            "text/plain": [
              "float"
            ]
          },
          "metadata": {},
          "execution_count": 32
        }
      ]
    },
    {
      "cell_type": "markdown",
      "source": [
        "Q9. Create a variable named name and assign your full name to it as a string. How would you print the value of this variable?"
      ],
      "metadata": {
        "id": "Gl0EM4LGYgqI"
      }
    },
    {
      "cell_type": "code",
      "source": [
        "name='Ansuman Das'\n",
        "print(name)"
      ],
      "metadata": {
        "id": "zkYU_jJDYSbQ",
        "outputId": "698ae190-9773-4f4d-8bb2-c839605d018b",
        "colab": {
          "base_uri": "https://localhost:8080/"
        }
      },
      "execution_count": 33,
      "outputs": [
        {
          "output_type": "stream",
          "name": "stdout",
          "text": [
            "Ansuman Das\n"
          ]
        }
      ]
    },
    {
      "cell_type": "markdown",
      "source": [
        "Q10. Given the string \"Hello, World!\", extract the substring \"World\""
      ],
      "metadata": {
        "id": "T8tnaEo1Y_J-"
      }
    },
    {
      "cell_type": "code",
      "source": [
        "s1= \"Hello, World!\"\n",
        "s1[7:12]"
      ],
      "metadata": {
        "id": "rSWmYFmcZC_0",
        "outputId": "cc44b5be-90f9-4308-c9bb-e9325eaf9e72",
        "colab": {
          "base_uri": "https://localhost:8080/",
          "height": 36
        }
      },
      "execution_count": 36,
      "outputs": [
        {
          "output_type": "execute_result",
          "data": {
            "text/plain": [
              "'World'"
            ],
            "application/vnd.google.colaboratory.intrinsic+json": {
              "type": "string"
            }
          },
          "metadata": {},
          "execution_count": 36
        }
      ]
    },
    {
      "cell_type": "markdown",
      "source": [
        "Q11. Create a variable named \"is_student\" and assign it a boolean value indicating whether you are currently a student or not."
      ],
      "metadata": {
        "id": "BY1l9UWoZBlV"
      }
    },
    {
      "cell_type": "code",
      "source": [
        "is_student=True"
      ],
      "metadata": {
        "id": "rCPjAGsHY5Oh"
      },
      "execution_count": 37,
      "outputs": []
    },
    {
      "cell_type": "code",
      "source": [
        "type(is_student)"
      ],
      "metadata": {
        "id": "ftmXMDy5ZmDZ",
        "outputId": "230ca962-9e67-4e2a-c69c-de6846938c0f",
        "colab": {
          "base_uri": "https://localhost:8080/"
        }
      },
      "execution_count": 38,
      "outputs": [
        {
          "output_type": "execute_result",
          "data": {
            "text/plain": [
              "bool"
            ]
          },
          "metadata": {},
          "execution_count": 38
        }
      ]
    }
  ]
}